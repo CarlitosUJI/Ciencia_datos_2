{
 "cells": [
  {
   "cell_type": "markdown",
   "id": "e69bfa1a",
   "metadata": {},
   "source": [
    "# 📊 Tutorial de Análisis de Datos Meteorológicos con Pandas y Matplotlib\n",
    "Este notebook utiliza datos meteorológicos simulados de varias estaciones de la provincia de Castellón durante un año completo."
   ]
  },
  {
   "cell_type": "code",
   "execution_count": null,
   "id": "68a5e779",
   "metadata": {},
   "outputs": [],
   "source": [
    "import pandas as pd\n",
    "import matplotlib.pyplot as plt\n",
    "\n",
    "# Cargar el archivo Excel\n",
    "df = pd.read_csv('datos_meteorologicos_castellon.csv', sep=';', decimal=',')\n",
    "\n",
    "# Mostrar unas primeras filas para chequear si está bien la exportación según lo previsto\n",
    "df.head()\n"
   ]
  },
  {
   "cell_type": "code",
   "execution_count": 35,
   "id": "617e1a47",
   "metadata": {},
   "outputs": [
    {
     "data": {
      "application/vnd.microsoft.datawrangler.viewer.v0+json": {
       "columns": [
        {
         "name": "index",
         "rawType": "int64",
         "type": "integer"
        },
        {
         "name": "Fecha",
         "rawType": "datetime64[ns]",
         "type": "datetime"
        },
        {
         "name": "Estación",
         "rawType": "object",
         "type": "string"
        },
        {
         "name": "Temp_Max",
         "rawType": "float64",
         "type": "float"
        },
        {
         "name": "Temp_Min",
         "rawType": "float64",
         "type": "float"
        },
        {
         "name": "Temp_Med",
         "rawType": "float64",
         "type": "float"
        },
        {
         "name": "Hum_Max",
         "rawType": "int64",
         "type": "integer"
        },
        {
         "name": "Hum_Min",
         "rawType": "int64",
         "type": "integer"
        },
        {
         "name": "Hum_Med",
         "rawType": "float64",
         "type": "float"
        },
        {
         "name": "Lluvia_Max",
         "rawType": "float64",
         "type": "float"
        },
        {
         "name": "Lluvia_Min",
         "rawType": "float64",
         "type": "float"
        },
        {
         "name": "Lluvia_Med",
         "rawType": "float64",
         "type": "float"
        },
        {
         "name": "Presion_Max",
         "rawType": "float64",
         "type": "float"
        },
        {
         "name": "Presion_Min",
         "rawType": "float64",
         "type": "float"
        },
        {
         "name": "Presion_Med",
         "rawType": "float64",
         "type": "float"
        },
        {
         "name": "Viento_Max",
         "rawType": "float64",
         "type": "float"
        },
        {
         "name": "Viento_Min",
         "rawType": "float64",
         "type": "float"
        },
        {
         "name": "Viento_Med",
         "rawType": "float64",
         "type": "float"
        }
       ],
       "ref": "1dc13d4b-e5ee-4fdf-8200-35252fbc527d",
       "rows": [
        [
         "73",
         "2024-01-15 00:00:00",
         "Segorbe",
         "37.7",
         "28.6",
         "33.2",
         "94",
         "57",
         "75.5",
         "1.1",
         "0.3",
         "0.7",
         "1014.1",
         "1011.3",
         "1012.7",
         "22.9",
         "11.3",
         "17.1"
        ],
        [
         "78",
         "2024-01-16 00:00:00",
         "Segorbe",
         "36.9",
         "26.1",
         "31.5",
         "85",
         "63",
         "74.0",
         "1.5",
         "0.7",
         "1.1",
         "1018.1",
         "1010.6",
         "1014.4",
         "17.4",
         "8.7",
         "13.0"
        ],
        [
         "202",
         "2024-02-10 00:00:00",
         "Villarreal",
         "36.3",
         "28.4",
         "32.4",
         "98",
         "44",
         "71.0",
         "0.0",
         "0.0",
         "0.0",
         "1011.1",
         "1007.4",
         "1009.2",
         "14.7",
         "7.9",
         "11.3"
        ],
        [
         "246",
         "2024-02-19 00:00:00",
         "Benicàssim",
         "38.5",
         "27.7",
         "33.1",
         "87",
         "61",
         "74.0",
         "0.0",
         "0.0",
         "0.0",
         "1010.3",
         "1003.4",
         "1006.9",
         "18.2",
         "7.8",
         "13.0"
        ],
        [
         "249",
         "2024-02-19 00:00:00",
         "Morella",
         "39.1",
         "32.5",
         "35.8",
         "93",
         "68",
         "80.5",
         "0.2",
         "0.1",
         "0.1",
         "1009.6",
         "1005.2",
         "1007.4",
         "13.9",
         "2.9",
         "8.4"
        ]
       ],
       "shape": {
        "columns": 17,
        "rows": 5
       }
      },
      "text/html": [
       "<div>\n",
       "<style scoped>\n",
       "    .dataframe tbody tr th:only-of-type {\n",
       "        vertical-align: middle;\n",
       "    }\n",
       "\n",
       "    .dataframe tbody tr th {\n",
       "        vertical-align: top;\n",
       "    }\n",
       "\n",
       "    .dataframe thead th {\n",
       "        text-align: right;\n",
       "    }\n",
       "</style>\n",
       "<table border=\"1\" class=\"dataframe\">\n",
       "  <thead>\n",
       "    <tr style=\"text-align: right;\">\n",
       "      <th></th>\n",
       "      <th>Fecha</th>\n",
       "      <th>Estación</th>\n",
       "      <th>Temp_Max</th>\n",
       "      <th>Temp_Min</th>\n",
       "      <th>Temp_Med</th>\n",
       "      <th>Hum_Max</th>\n",
       "      <th>Hum_Min</th>\n",
       "      <th>Hum_Med</th>\n",
       "      <th>Lluvia_Max</th>\n",
       "      <th>Lluvia_Min</th>\n",
       "      <th>Lluvia_Med</th>\n",
       "      <th>Presion_Max</th>\n",
       "      <th>Presion_Min</th>\n",
       "      <th>Presion_Med</th>\n",
       "      <th>Viento_Max</th>\n",
       "      <th>Viento_Min</th>\n",
       "      <th>Viento_Med</th>\n",
       "    </tr>\n",
       "  </thead>\n",
       "  <tbody>\n",
       "    <tr>\n",
       "      <th>73</th>\n",
       "      <td>2024-01-15</td>\n",
       "      <td>Segorbe</td>\n",
       "      <td>37.7</td>\n",
       "      <td>28.6</td>\n",
       "      <td>33.2</td>\n",
       "      <td>94</td>\n",
       "      <td>57</td>\n",
       "      <td>75.5</td>\n",
       "      <td>1.1</td>\n",
       "      <td>0.3</td>\n",
       "      <td>0.7</td>\n",
       "      <td>1014.1</td>\n",
       "      <td>1011.3</td>\n",
       "      <td>1012.7</td>\n",
       "      <td>22.9</td>\n",
       "      <td>11.3</td>\n",
       "      <td>17.1</td>\n",
       "    </tr>\n",
       "    <tr>\n",
       "      <th>78</th>\n",
       "      <td>2024-01-16</td>\n",
       "      <td>Segorbe</td>\n",
       "      <td>36.9</td>\n",
       "      <td>26.1</td>\n",
       "      <td>31.5</td>\n",
       "      <td>85</td>\n",
       "      <td>63</td>\n",
       "      <td>74.0</td>\n",
       "      <td>1.5</td>\n",
       "      <td>0.7</td>\n",
       "      <td>1.1</td>\n",
       "      <td>1018.1</td>\n",
       "      <td>1010.6</td>\n",
       "      <td>1014.4</td>\n",
       "      <td>17.4</td>\n",
       "      <td>8.7</td>\n",
       "      <td>13.0</td>\n",
       "    </tr>\n",
       "    <tr>\n",
       "      <th>202</th>\n",
       "      <td>2024-02-10</td>\n",
       "      <td>Villarreal</td>\n",
       "      <td>36.3</td>\n",
       "      <td>28.4</td>\n",
       "      <td>32.4</td>\n",
       "      <td>98</td>\n",
       "      <td>44</td>\n",
       "      <td>71.0</td>\n",
       "      <td>0.0</td>\n",
       "      <td>0.0</td>\n",
       "      <td>0.0</td>\n",
       "      <td>1011.1</td>\n",
       "      <td>1007.4</td>\n",
       "      <td>1009.2</td>\n",
       "      <td>14.7</td>\n",
       "      <td>7.9</td>\n",
       "      <td>11.3</td>\n",
       "    </tr>\n",
       "    <tr>\n",
       "      <th>246</th>\n",
       "      <td>2024-02-19</td>\n",
       "      <td>Benicàssim</td>\n",
       "      <td>38.5</td>\n",
       "      <td>27.7</td>\n",
       "      <td>33.1</td>\n",
       "      <td>87</td>\n",
       "      <td>61</td>\n",
       "      <td>74.0</td>\n",
       "      <td>0.0</td>\n",
       "      <td>0.0</td>\n",
       "      <td>0.0</td>\n",
       "      <td>1010.3</td>\n",
       "      <td>1003.4</td>\n",
       "      <td>1006.9</td>\n",
       "      <td>18.2</td>\n",
       "      <td>7.8</td>\n",
       "      <td>13.0</td>\n",
       "    </tr>\n",
       "    <tr>\n",
       "      <th>249</th>\n",
       "      <td>2024-02-19</td>\n",
       "      <td>Morella</td>\n",
       "      <td>39.1</td>\n",
       "      <td>32.5</td>\n",
       "      <td>35.8</td>\n",
       "      <td>93</td>\n",
       "      <td>68</td>\n",
       "      <td>80.5</td>\n",
       "      <td>0.2</td>\n",
       "      <td>0.1</td>\n",
       "      <td>0.1</td>\n",
       "      <td>1009.6</td>\n",
       "      <td>1005.2</td>\n",
       "      <td>1007.4</td>\n",
       "      <td>13.9</td>\n",
       "      <td>2.9</td>\n",
       "      <td>8.4</td>\n",
       "    </tr>\n",
       "  </tbody>\n",
       "</table>\n",
       "</div>"
      ],
      "text/plain": [
       "         Fecha    Estación  Temp_Max  Temp_Min  Temp_Med  Hum_Max  Hum_Min  \\\n",
       "73  2024-01-15     Segorbe      37.7      28.6      33.2       94       57   \n",
       "78  2024-01-16     Segorbe      36.9      26.1      31.5       85       63   \n",
       "202 2024-02-10  Villarreal      36.3      28.4      32.4       98       44   \n",
       "246 2024-02-19  Benicàssim      38.5      27.7      33.1       87       61   \n",
       "249 2024-02-19     Morella      39.1      32.5      35.8       93       68   \n",
       "\n",
       "     Hum_Med  Lluvia_Max  Lluvia_Min  Lluvia_Med  Presion_Max  Presion_Min  \\\n",
       "73      75.5         1.1         0.3         0.7       1014.1       1011.3   \n",
       "78      74.0         1.5         0.7         1.1       1018.1       1010.6   \n",
       "202     71.0         0.0         0.0         0.0       1011.1       1007.4   \n",
       "246     74.0         0.0         0.0         0.0       1010.3       1003.4   \n",
       "249     80.5         0.2         0.1         0.1       1009.6       1005.2   \n",
       "\n",
       "     Presion_Med  Viento_Max  Viento_Min  Viento_Med  \n",
       "73        1012.7        22.9        11.3        17.1  \n",
       "78        1014.4        17.4         8.7        13.0  \n",
       "202       1009.2        14.7         7.9        11.3  \n",
       "246       1006.9        18.2         7.8        13.0  \n",
       "249       1007.4        13.9         2.9         8.4  "
      ]
     },
     "execution_count": 35,
     "metadata": {},
     "output_type": "execute_result"
    }
   ],
   "source": [
    "# Asegurar que la columna 'Fecha' es datetime, porque sino no reconoce el orden de\n",
    "df['Fecha'] = pd.to_datetime(df['Fecha'])\n",
    "\n",
    "# Agrupar por fecha, promedio entre estaciones\n",
    "df_grouped = df.groupby('Fecha').mean(numeric_only=True)\n",
    "df_grouped.head()\n",
    "\n",
    "df_benicassim = df[df['Estación'] == 'Benicàssim']\n",
    "df_benicassim.head()\n",
    "\n",
    "df_benicassim = df[df['Temp_Max'] >35 ]\n",
    "\n",
    "df_benicassim = df_benicassim[df_benicassim['Temp_Max'] >36 ]\n",
    "df_benicassim.head()\n"
   ]
  },
  {
   "cell_type": "code",
   "execution_count": null,
   "id": "b7f59505",
   "metadata": {},
   "outputs": [],
   "source": [
    "def graficar_variable(df_grouped, base_name, ylabel):\n",
    "    plt.figure(figsize=(12, 6))\n",
    "    plt.plot(df_grouped[f'{base_name}_Max'], label='Máximo', color='red', linestyle='--', linewidth=2, alpha=0.7, marker='o')\n",
    "    plt.plot(df_grouped[f'{base_name}_Min'], label='Mínimo')\n",
    "    plt.plot(df_grouped[f'{base_name}_Med'], label='Media')\n",
    "    plt.title(f'{base_name.capitalize()} diaria en la provincia de Castellón')\n",
    "    plt.xlabel('Fecha')\n",
    "    plt.ylabel(ylabel)\n",
    "    plt.legend()\n",
    "    plt.grid(True)\n",
    "    plt.show()\n"
   ]
  },
  {
   "cell_type": "code",
   "execution_count": null,
   "id": "1dd81ba6",
   "metadata": {},
   "outputs": [],
   "source": [
    "def graficar_variable(df_grouped, base_name, ylabel):\n",
    "    plt.figure(figsize=(12, 6))\n",
    "    plt.bar(df_grouped.index, df_grouped[f'{base_name}_Max'], label='Máximo', color='red', alpha=0.7)\n",
    "    plt.bar(df_grouped.index, df_grouped[f'{base_name}_Min'], label='Mínimo', color='blue', alpha=0.5)\n",
    "    plt.bar(df_grouped.index, df_grouped[f'{base_name}_Med'], label='Media', color='green', alpha=0.5)\n",
    "    plt.title(f'{base_name.capitalize()} diaria en la provincia de Castellón (Barras)')\n",
    "    plt.xlabel('Fecha')\n",
    "    plt.ylabel(ylabel)\n",
    "    plt.legend()\n",
    "    plt.grid(True)\n",
    "    plt.show()"
   ]
  },
  {
   "cell_type": "code",
   "execution_count": null,
   "id": "b8da9378",
   "metadata": {},
   "outputs": [],
   "source": [
    "graficar_variable(df_grouped, 'Temp', 'Temperatura (°C)')\n",
    "graficar_variable(df_grouped, 'Hum', 'Humedad (%)')\n",
    "graficar_variable(df_grouped, 'Lluvia', 'Lluvia (mm)')\n",
    "graficar_variable(df_grouped, 'Presion', 'Presión (hPa)')\n",
    "graficar_variable(df_grouped, 'Viento', 'Velocidad viento (km/h)')\n"
   ]
  },
  {
   "cell_type": "code",
   "execution_count": null,
   "id": "0597d893",
   "metadata": {},
   "outputs": [],
   "source": [
    "variables = ['Temp', 'Hum', 'Lluvia', 'Presion', 'Viento']\n",
    "tipos = ['Max', 'Min', 'Med']\n",
    "\n",
    "# DataFrame resumen\n",
    "resumen = pd.DataFrame()\n",
    "\n",
    "for var in variables:\n",
    "    for tipo in tipos:\n",
    "        serie = df_grouped[f'{var}_{tipo}']\n",
    "        resumen.loc[f'{var}_{tipo}', 'Media'] = serie.mean()\n",
    "        resumen.loc[f'{var}_{tipo}', 'Varianza'] = serie.var()\n",
    "        resumen.loc[f'{var}_{tipo}', 'Desviación Std'] = serie.std()\n",
    "        resumen.loc[f'{var}_{tipo}', 'Máximo'] = serie.max()\n",
    "        resumen.loc[f'{var}_{tipo}', 'Mínimo'] = serie.min()\n",
    "\n",
    "resumen\n"
   ]
  },
  {
   "cell_type": "code",
   "execution_count": null,
   "id": "e88f40ef",
   "metadata": {},
   "outputs": [],
   "source": [
    "def graficar_estadisticas(var):\n",
    "    stats = resumen.filter(like=var, axis=0)\n",
    "    stats.plot(kind='bar', figsize=(12, 6))\n",
    "    plt.title(f'Estadísticas anuales para {var}')\n",
    "    plt.ylabel('Valor')\n",
    "    plt.grid(True)\n",
    "    plt.xticks(rotation=45)\n",
    "    plt.show()\n"
   ]
  },
  {
   "cell_type": "code",
   "execution_count": null,
   "id": "93277e34",
   "metadata": {},
   "outputs": [],
   "source": [
    "for var in variables:\n",
    "    graficar_estadisticas(var)\n"
   ]
  }
 ],
 "metadata": {
  "kernelspec": {
   "display_name": "cursopython",
   "language": "python",
   "name": "python3"
  },
  "language_info": {
   "codemirror_mode": {
    "name": "ipython",
    "version": 3
   },
   "file_extension": ".py",
   "mimetype": "text/x-python",
   "name": "python",
   "nbconvert_exporter": "python",
   "pygments_lexer": "ipython3",
   "version": "3.13.5"
  }
 },
 "nbformat": 4,
 "nbformat_minor": 5
}
